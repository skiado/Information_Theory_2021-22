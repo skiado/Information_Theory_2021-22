{
 "cells": [
  {
   "cell_type": "code",
   "execution_count": 1,
   "metadata": {},
   "outputs": [
    {
     "name": "stdout",
     "output_type": "stream",
     "text": [
      "Generation matrix\n",
      "[[1 0 0 0 0 0 0 0 1 1 0 0]\n",
      " [0 1 0 0 0 0 0 0 1 0 1 0]\n",
      " [0 0 1 0 0 0 0 0 0 1 1 0]\n",
      " [0 0 0 1 0 0 0 0 1 1 1 0]\n",
      " [0 0 0 0 1 0 0 0 1 0 0 1]\n",
      " [0 0 0 0 0 1 0 0 0 1 0 1]\n",
      " [0 0 0 0 0 0 1 0 1 1 0 1]\n",
      " [0 0 0 0 0 0 0 1 0 0 1 1]]\n"
     ]
    }
   ],
   "source": [
    "import numpy as np\n",
    "\n",
    "g = np.array([[1,0,0,0,0,0,0,0,1,1,0,0],[0,1,0,0,0,0,0,0,1,0,1,0],[0,0,1,0,0,0,0,0,0,1,1,0],[0,0,0,1,0,0,0,0,1,1,1,0],[0,0,0,0,1,0,0,0,1,0,0,1],[0,0,0,0,0,1,0,0,0,1,0,1],[0,0,0,0,0,0,1,0,1,1,0,1],[0,0,0,0,0,0,0,1,0,0,1,1]])\n",
    "print('Generation matrix')\n",
    "print(g)"
   ]
  },
  {
   "cell_type": "code",
   "execution_count": 2,
   "metadata": {},
   "outputs": [
    {
     "name": "stdout",
     "output_type": "stream",
     "text": [
      "H\n",
      "[[1 1 0 1 1 0 1 0 1 0 0 0]\n",
      " [1 0 1 1 0 1 1 0 0 1 0 0]\n",
      " [0 1 1 1 0 0 0 1 0 0 1 0]\n",
      " [0 0 0 0 1 1 1 1 0 0 0 1]]\n"
     ]
    }
   ],
   "source": [
    "h = np.array([[1,1,0,1,1,0,1,0,1,0,0,0],[1,0,1,1,0,1,1,0,0,1,0,0],[0,1,1,1,0,0,0,1,0,0,1,0],[0,0,0,0,1,1,1,1,0,0,0,1]])\n",
    "print('H')\n",
    "print(h)"
   ]
  },
  {
   "cell_type": "code",
   "execution_count": 3,
   "metadata": {},
   "outputs": [
    {
     "name": "stdout",
     "output_type": "stream",
     "text": [
      "test G.H\n",
      "[[0 0 0 0 0 0 0 0]\n",
      " [0 0 0 0 0 0 0 0]\n",
      " [0 0 0 0 0 0 0 0]\n",
      " [0 0 0 0 0 0 0 0]]\n"
     ]
    }
   ],
   "source": [
    "print('test G.H')\n",
    "print(np.dot(h,np.transpose(g))%2)"
   ]
  },
  {
   "cell_type": "code",
   "execution_count": 4,
   "metadata": {},
   "outputs": [
    {
     "name": "stdout",
     "output_type": "stream",
     "text": [
      "message =  [1 0 0 1 1 0 1 1]\n",
      "coded =  [1 0 0 1 1 0 1 1 0 1 0 1]\n",
      "coded = mesage  + parity\n",
      "[1 0 0 1 1 0 1 1]  +  [0 1 0 1]\n"
     ]
    }
   ],
   "source": [
    "m = np.array([1,0,0,1,1,0,1,1])\n",
    "print('message = ',m)\n",
    "c = np.dot(m,g)%2\n",
    "print('coded = ',c)\n",
    "print('coded = mesage  + parity')\n",
    "print(c[:8],' + ',c[8:])"
   ]
  },
  {
   "cell_type": "code",
   "execution_count": 5,
   "metadata": {},
   "outputs": [
    {
     "name": "stdout",
     "output_type": "stream",
     "text": [
      "received =  [1 0 0 1 1 0 1 1 0 1 0 1]\n",
      "[0 0 0 0] no error detected\n"
     ]
    }
   ],
   "source": [
    "print('received = ',c)\n",
    "r = np.dot(h,c)%2\n",
    "print(r,'no error detected')\n",
    "er_c = np.array([1,0,1,1,1,1,0,1,1])"
   ]
  },
  {
   "cell_type": "code",
   "execution_count": 12,
   "metadata": {},
   "outputs": [
    {
     "name": "stdout",
     "output_type": "stream",
     "text": [
      "received with error =  [1 0 0 1 0 0 1 1 0 1 0 1]\n",
      "[1 0 0 1] error detected\n"
     ]
    }
   ],
   "source": [
    "er_c = np.array([1, 0 ,0 ,1, 0 ,0 ,1, 1, 0 ,1, 0, 1])\n",
    "print('received with error = ',er_c)\n",
    "er_r = np.dot(h,er_c)%2\n",
    "print(er_r,'error detected')\n"
   ]
  },
  {
   "cell_type": "code",
   "execution_count": 13,
   "metadata": {},
   "outputs": [
    {
     "name": "stdout",
     "output_type": "stream",
     "text": [
      "error in position:  4\n",
      "corected message =  [1 0 0 1 1 0 1 1 0 1 0 1]\n"
     ]
    }
   ],
   "source": [
    "for i in range(h.shape[1]):\n",
    "        if np.array_equal(h[:,i] , er_r):\n",
    "            print('error in position: ',i)\n",
    "            er_c[i] = (er_c[i] + 1)%2\n",
    "            break\n",
    "print('corected message = ',er_c)"
   ]
  },
  {
   "cell_type": "code",
   "execution_count": null,
   "metadata": {},
   "outputs": [],
   "source": []
  }
 ],
 "metadata": {
  "kernelspec": {
   "display_name": "Python 3",
   "language": "python",
   "name": "python3"
  },
  "language_info": {
   "codemirror_mode": {
    "name": "ipython",
    "version": 3
   },
   "file_extension": ".py",
   "mimetype": "text/x-python",
   "name": "python",
   "nbconvert_exporter": "python",
   "pygments_lexer": "ipython3",
   "version": "3.7.6"
  }
 },
 "nbformat": 4,
 "nbformat_minor": 2
}
